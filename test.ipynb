{
 "cells": [
  {
   "cell_type": "code",
   "execution_count": null,
   "metadata": {},
   "outputs": [],
   "source": [
    "from __future__ import print_function, division\n",
    "import os\n",
    "import cv2\n",
    "import copy\n",
    "import glob\n",
    "import time\n",
    "import torch\n",
    "import torchvision\n",
    "import numpy as np\n",
    "import torch.nn as nn\n",
    "from PIL import Image\n",
    "import torch.optim as optim\n",
    "import matplotlib.pyplot as plt\n",
    "from torch.autograd import Variable\n",
    "from torch.optim import lr_scheduler\n",
    "from torchvision import datasets, models, transforms"
   ]
  },
  {
   "cell_type": "code",
   "execution_count": null,
   "metadata": {},
   "outputs": [],
   "source": [
    "#****************************************************************************\n",
    "# CROP FACES FROM THE IMAGES TRAIN FOLDER\n",
    "#****************************************************************************\n",
    "use_gpu = torch.cuda.is_available()\n",
    "\n",
    "if use_gpu:\n",
    "    torch.cuda.FloatTensor\n",
    "else:\n",
    "    print(\"WARNING: It looks like you have a CUDA device, but aren't \" +  \"using CUDA.\\nRun with --cuda for optimal training speed.\")\n",
    "    torch.FloatTensor\n",
    "    \n",
    "    \n",
    "# load NET model\n",
    "model = torch.load('model/mymodel.pt')\n",
    "model.eval()\n",
    "class_names = ['Madonna', 'Mindy Kaling']\n",
    "\n",
    "# create a new folder\n",
    "os.makedirs('output', exist_ok=True)"
   ]
  },
  {
   "cell_type": "code",
   "execution_count": null,
   "metadata": {},
   "outputs": [],
   "source": [
    "#****************************************************************************\n",
    "# LOAD OpenCV FACE DETECTOR\n",
    "#****************************************************************************\n",
    "\n",
    "face_cascade = cv2.CascadeClassifier('opencv-files/haarcascade_frontalface_alt.xml')\n",
    "\n",
    "loader = 'data/test'\n",
    "\n",
    "font = cv2.FONT_HERSHEY_SIMPLEX\n",
    "\n",
    "# data transforms\n",
    "normalize = transforms.Normalize(\n",
    "   mean=[0.485, 0.456, 0.406],\n",
    "   std=[0.229, 0.224, 0.225]\n",
    ")\n",
    "data_transforms = transforms.Compose([\n",
    "   transforms.Resize(256),\n",
    "   transforms.CenterCrop(224),\n",
    "   transforms.ToTensor(),\n",
    "   normalize\n",
    "])"
   ]
  },
  {
   "cell_type": "code",
   "execution_count": null,
   "metadata": {},
   "outputs": [],
   "source": [
    "#******************************************************************\n",
    "# PREDICTIONS \n",
    "#******************************************************************\n",
    "\n",
    "def test(model, loader, use_gpu):\n",
    "    \n",
    "    for img_paths in glob.glob(os.path.join(loader, \"*\")):\n",
    "        img = cv2.imread(img_paths)\n",
    "        img_name = os.path.basename(img_paths) \n",
    "        frame = cv2.resize(img, (640, 480))\n",
    "        gray = cv2.cvtColor(frame, cv2.COLOR_BGR2GRAY)\n",
    "        faces = face_cascade.detectMultiScale(gray, scaleFactor=1.2, minNeighbors=5);\n",
    "        for (x, y, w, h) in faces:\n",
    "            face_crop = frame[y:y+h,x:x+w]\n",
    "            img_pil = Image.fromarray(face_crop)\n",
    "            img_tensor = data_transforms(img_pil)\n",
    "            img_tensor.unsqueeze_(0)\n",
    "        \n",
    "            if use_gpu:\n",
    "                output = model(Variable(img_tensor.cuda())) \n",
    "            else:\n",
    "                output = model(Variable(img_tensor)) \n",
    "            \n",
    "            _, preds = torch.max(output.data, 1)\n",
    "            print(preds)\n",
    "            preds_ = (preds.data).cpu().numpy()\n",
    "            preds_  = int(preds_)\n",
    "            label = class_names[preds_]  \n",
    "        \n",
    "            cv2.rectangle(frame, (x, y), (x+w, y+h), (0, 0, 255), 2,5)\n",
    "            cv2.putText(frame, label, (x,y), font, 1, (200,0,0), 3, cv2.LINE_AA)   \n",
    "            cv2.imwrite(os.path.join(\"output\") + '/' +  img_name, frame)    \n",
    "            \n",
    "test(model, loader, use_gpu)"
   ]
  }
 ],
 "metadata": {
  "kernelspec": {
   "display_name": "Python 3",
   "language": "python",
   "name": "python3"
  },
  "language_info": {
   "codemirror_mode": {
    "name": "ipython",
    "version": 3
   },
   "file_extension": ".py",
   "mimetype": "text/x-python",
   "name": "python",
   "nbconvert_exporter": "python",
   "pygments_lexer": "ipython3",
   "version": "3.6.5"
  }
 },
 "nbformat": 4,
 "nbformat_minor": 2
}
